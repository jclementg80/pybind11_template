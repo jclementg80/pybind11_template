{
 "cells": [
  {
   "cell_type": "code",
   "execution_count": 1,
   "metadata": {},
   "outputs": [
    {
     "name": "stdout",
     "output_type": "stream",
     "text": [
      "Testing pymydate module from notebook\n"
     ]
    }
   ],
   "source": [
    "from MyDate import pymydate\n",
    "print(\"Testing pymydate module from notebook\")"
   ]
  },
  {
   "cell_type": "code",
   "execution_count": 2,
   "metadata": {},
   "outputs": [
    {
     "name": "stdout",
     "output_type": "stream",
     "text": [
      "2 + 2 =  4\n"
     ]
    }
   ],
   "source": [
    "c = pymydate.MyDate_add(2, 2)\n",
    "print(\"2 + 2 = \", c)"
   ]
  },
  {
   "cell_type": "code",
   "execution_count": 3,
   "metadata": {},
   "outputs": [
    {
     "name": "stdout",
     "output_type": "stream",
     "text": [
      "My date is: 21 / 4 / 20\n"
     ]
    }
   ],
   "source": [
    "mydate = pymydate.MyDate(20, 4, 21)\n",
    "print(f\"My date is: {mydate.getDay()} / {mydate.getMonth()} / {mydate.getYear()}\")"
   ]
  },
  {
   "cell_type": "code",
   "execution_count": null,
   "metadata": {},
   "outputs": [],
   "source": []
  }
 ],
 "metadata": {
  "kernelspec": {
   "display_name": "Python 3",
   "language": "python",
   "name": "python3"
  },
  "language_info": {
   "codemirror_mode": {
    "name": "ipython",
    "version": 3
   },
   "file_extension": ".py",
   "mimetype": "text/x-python",
   "name": "python",
   "nbconvert_exporter": "python",
   "pygments_lexer": "ipython3",
   "version": "3.9.1"
  },
  "metadata": {
   "interpreter": {
    "hash": "7ba574b9a0dfd93fda2341f9643685ddc46aeaf9ec9b629abc8218a1b332c205"
   }
  }
 },
 "nbformat": 4,
 "nbformat_minor": 2
}
